{
 "cells": [
  {
   "cell_type": "code",
   "execution_count": 4,
   "id": "ee0546ee",
   "metadata": {},
   "outputs": [],
   "source": [
    "import os\n",
    "import random\n",
    "import string\n",
    "import numpy as np\n",
    "import pandas as pd\n",
    "\n",
    "import sys\n",
    "sys.path.append('./datareader')\n",
    "from text_preprocess import NepaliPreprocess\n",
    "\n",
    "import warnings \n",
    "warnings.filterwarnings('ignore')"
   ]
  },
  {
   "cell_type": "code",
   "execution_count": 5,
   "id": "81f6cd97",
   "metadata": {},
   "outputs": [],
   "source": [
    "Data_cleaner = NepaliPreprocess()\n",
    "test = Data_cleaner.Reg_and_Stemming(\"घन्टाघरले कति बजायो सबै आफैभित्र पचायो\")"
   ]
  },
  {
   "cell_type": "code",
   "execution_count": 6,
   "id": "ba549ef8",
   "metadata": {},
   "outputs": [
    {
     "data": {
      "text/plain": [
       "'घन्टाघर बजा आफैभित्र पचा '"
      ]
     },
     "execution_count": 6,
     "metadata": {},
     "output_type": "execute_result"
    }
   ],
   "source": [
    "test"
   ]
  },
  {
   "cell_type": "code",
   "execution_count": null,
   "id": "1c9a7d72",
   "metadata": {},
   "outputs": [],
   "source": []
  }
 ],
 "metadata": {
  "kernelspec": {
   "display_name": "Python 3 (ipykernel)",
   "language": "python",
   "name": "python3"
  },
  "language_info": {
   "codemirror_mode": {
    "name": "ipython",
    "version": 3
   },
   "file_extension": ".py",
   "mimetype": "text/x-python",
   "name": "python",
   "nbconvert_exporter": "python",
   "pygments_lexer": "ipython3",
   "version": "3.8.10"
  }
 },
 "nbformat": 4,
 "nbformat_minor": 5
}
